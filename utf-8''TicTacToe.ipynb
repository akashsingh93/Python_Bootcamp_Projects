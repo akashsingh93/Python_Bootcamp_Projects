{
  "cells": [
    {
      "metadata": {
        "trusted": true
      },
      "cell_type": "code",
      "source": "from IPython.display import clear_output\n\ndef display_board(board):\n    clear_output()\n    print(' '+' | '+' '+' | '+' ')\n    print(board[6]+' | '+board[7]+' | '+board[8])\n    print(' '+' | '+' '+' | '+' ')\n    print('-- --- --')\n    print(' '+' | '+' '+' | '+' ')\n    print(board[3]+' | '+board[4]+' | '+board[5])\n    print(' '+' | '+' '+' | '+' ')\n    print('-- --- --')\n    print(' '+' | '+' '+' | '+' ')\n    print(board[0]+' | '+board[1]+' | '+board[2])\n    print(' '+' | '+' '+' | '+' ')\n    \n    ",
      "execution_count": 1,
      "outputs": []
    },
    {
      "metadata": {
        "trusted": true
      },
      "cell_type": "code",
      "source": "def player_input(flag,player1='P1 ',player2='P2 '):\n        if flag:\n            key=int(input('Enter your next move '+player1))\n            return {key-1:'X'}\n        else:\n            key=int(input('Enter your next move '+player2))\n            return {key-1:'O'}",
      "execution_count": 2,
      "outputs": []
    },
    {
      "metadata": {
        "trusted": true
      },
      "cell_type": "code",
      "source": "def mark_board(position,board):\n    board[list(position.keys())[0]]=list(position.values())[0]\n    return board\n    ",
      "execution_count": 3,
      "outputs": []
    },
    {
      "metadata": {
        "trusted": true
      },
      "cell_type": "code",
      "source": "def win_check(board,player1,player2):\n    #player1 win check\n    if board[0] =='X':\n        if board[1] + board[2]=='XX' or board[3] + board[6] =='XX':\n            return player1\n    #player2 win check\n    elif board[0] =='O':\n        if board[1] + board[2]=='OO' or board[3] + board[6] =='OO':\n            return player2\n    #player1 win check \n    if board[2] + board[5] + board[8] =='XXX':\n        return player1\n    #player2 win check\n    elif board[2] + board[5] + board[8] =='OOO':\n        return player2\n    #player1 win check \n    if board[6] + board[7] +board[8] =='XXX':\n        return player1\n    #player2 win check\n    elif board[6] + board[7] +board[8] =='OOO':\n        return player2\n    #player1 win check\n    if board[4]=='X':\n        if board[0] + board[8] =='XX' or board[2] + board[6] =='XX' or board[3] + board[5]=='XX' or board[1] +board[7]=='XX':\n            return player1\n    #player2 win check\n    elif board[4]=='O':\n        if board[0] + board[8] =='OO' or board[2] + board[6] =='OO' or board[3] + board[5]=='OO' or board[1] +board[7]=='OO':\n            return player1\n    \n    ",
      "execution_count": 4,
      "outputs": []
    },
    {
      "metadata": {
        "trusted": true
      },
      "cell_type": "code",
      "source": "C=True\ngameover_count=1\nwhile C==True:\n    print(\"           Welcome to Tic Tac Toe Game               \")\n    print(\"                                                     \")\n    player1=input('Enter the 1st player name')\n    player2=input('Enter the 2nd player name')\n    flag=True\n    board=[' ',' ',' ',' ',' ',' ',' ',' ',' ',' ']\n    display_board(board)\n    \n    while gameover_count<10:\n        position=player_input(flag,player1,player2)\n        marked_board=mark_board(position,board)\n        display_board(marked_board)\n        winner=win_check(board,player1,player2)\n        if winner==player1 or winner==player2:\n            print('Congrats ' + winner + ' You won -;) ')\n            Continue_checker=input('Do you wanna play again ? Type Y / N ')\n            if Continue_checker=='N':\n                C='False'\n            break\n        flag= not flag\n        gameover_count+=1\n        if gameover_count == 10:\n            print('OOPS Its a draw')\n            Continue_checker=input('Do you wanna play again ? Type Y / N ')\n            if Continue_checker=='N':\n                C='False'\n    ",
      "execution_count": null,
      "outputs": []
    }
  ],
  "metadata": {
    "kernelspec": {
      "name": "python36",
      "display_name": "Python 3.6",
      "language": "python"
    },
    "language_info": {
      "mimetype": "text/x-python",
      "nbconvert_exporter": "python",
      "name": "python",
      "pygments_lexer": "ipython3",
      "version": "3.6.3",
      "file_extension": ".py",
      "codemirror_mode": {
        "version": 3,
        "name": "ipython"
      }
    }
  },
  "nbformat": 4,
  "nbformat_minor": 2
}